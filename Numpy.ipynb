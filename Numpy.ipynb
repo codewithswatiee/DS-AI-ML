{
  "nbformat": 4,
  "nbformat_minor": 0,
  "metadata": {
    "colab": {
      "provenance": [],
      "authorship_tag": "ABX9TyN5Ot/BFfNdshVn/UYK1tbJ",
      "include_colab_link": true
    },
    "kernelspec": {
      "name": "python3",
      "display_name": "Python 3"
    },
    "language_info": {
      "name": "python"
    }
  },
  "cells": [
    {
      "cell_type": "markdown",
      "metadata": {
        "id": "view-in-github",
        "colab_type": "text"
      },
      "source": [
        "<a href=\"https://colab.research.google.com/github/codewithswatiee/DS-AI-ML/blob/main/Numpy.ipynb\" target=\"_parent\"><img src=\"https://colab.research.google.com/assets/colab-badge.svg\" alt=\"Open In Colab\"/></a>"
      ]
    },
    {
      "cell_type": "code",
      "execution_count": 19,
      "metadata": {
        "id": "C06tLI0Kh73_"
      },
      "outputs": [],
      "source": [
        "import numpy as np"
      ]
    },
    {
      "cell_type": "code",
      "source": [
        "### creating arrays in numpy\n",
        "\n",
        "## 1d array:\n",
        "arr1 = np.array([1, 2, 3 ,4 ,5])\n",
        "print(arr1)\n",
        "print(type(arr1))\n",
        "print(arr1.shape)"
      ],
      "metadata": {
        "colab": {
          "base_uri": "https://localhost:8080/"
        },
        "id": "v3UEQvJgiT9r",
        "outputId": "1a6c3de3-3000-4c11-b73b-b540171229f4"
      },
      "execution_count": 20,
      "outputs": [
        {
          "output_type": "stream",
          "name": "stdout",
          "text": [
            "[1 2 3 4 5]\n",
            "<class 'numpy.ndarray'>\n",
            "(5,)\n"
          ]
        }
      ]
    },
    {
      "cell_type": "code",
      "source": [
        "arr2 = np.array([1, 2, 3, 4 , 5])\n",
        "arr2.reshape(1, 5) # 1 row 5 elements"
      ],
      "metadata": {
        "colab": {
          "base_uri": "https://localhost:8080/"
        },
        "id": "vuU3lPsgiegq",
        "outputId": "187f6817-3db6-47d8-d60a-a53979bd795a"
      },
      "execution_count": 21,
      "outputs": [
        {
          "output_type": "execute_result",
          "data": {
            "text/plain": [
              "array([[1, 2, 3, 4, 5]])"
            ]
          },
          "metadata": {},
          "execution_count": 21
        }
      ]
    },
    {
      "cell_type": "code",
      "source": [
        "#2d array\n",
        "\n",
        "arr2 = np.array([[1, 2, 3, 4, 5], [1,2, 3, 4, 5]])\n",
        "print(arr2)\n",
        "print(arr2.shape)"
      ],
      "metadata": {
        "colab": {
          "base_uri": "https://localhost:8080/"
        },
        "id": "SPubOPHsj3Ut",
        "outputId": "4994af8b-d599-4dd6-f206-91776b135013"
      },
      "execution_count": 22,
      "outputs": [
        {
          "output_type": "stream",
          "name": "stdout",
          "text": [
            "[[1 2 3 4 5]\n",
            " [1 2 3 4 5]]\n",
            "(2, 5)\n"
          ]
        }
      ]
    },
    {
      "cell_type": "code",
      "source": [
        "np.arange(0, 10, 2).reshape(5, 1)"
      ],
      "metadata": {
        "colab": {
          "base_uri": "https://localhost:8080/"
        },
        "id": "2QGhsQLDkE5K",
        "outputId": "6e384f8a-7559-4ede-b737-d4198442dc7d"
      },
      "execution_count": 23,
      "outputs": [
        {
          "output_type": "execute_result",
          "data": {
            "text/plain": [
              "array([[0],\n",
              "       [2],\n",
              "       [4],\n",
              "       [6],\n",
              "       [8]])"
            ]
          },
          "metadata": {},
          "execution_count": 23
        }
      ]
    },
    {
      "cell_type": "code",
      "source": [
        "np.ones((3, 4))"
      ],
      "metadata": {
        "colab": {
          "base_uri": "https://localhost:8080/"
        },
        "id": "WpKeb5tLk-BY",
        "outputId": "1b3ec466-5750-4ed2-adf9-982d85618f32"
      },
      "execution_count": 24,
      "outputs": [
        {
          "output_type": "execute_result",
          "data": {
            "text/plain": [
              "array([[1., 1., 1., 1.],\n",
              "       [1., 1., 1., 1.],\n",
              "       [1., 1., 1., 1.]])"
            ]
          },
          "metadata": {},
          "execution_count": 24
        }
      ]
    },
    {
      "cell_type": "code",
      "source": [
        "## identity matrix\n",
        "np.eye(3)"
      ],
      "metadata": {
        "colab": {
          "base_uri": "https://localhost:8080/"
        },
        "id": "_KMePAfilJ02",
        "outputId": "f6c704df-7640-487b-bd8a-bab641f4e9ad"
      },
      "execution_count": 25,
      "outputs": [
        {
          "output_type": "execute_result",
          "data": {
            "text/plain": [
              "array([[1., 0., 0.],\n",
              "       [0., 1., 0.],\n",
              "       [0., 0., 1.]])"
            ]
          },
          "metadata": {},
          "execution_count": 25
        }
      ]
    },
    {
      "cell_type": "code",
      "source": [
        "##Atributes in np.array\n",
        "\n",
        "arr = np.array([[1, 2, 3], [4, 5, 6]])\n",
        "print(\"Array: \",arr)\n",
        "print(\"Shape: \",arr.shape)\n",
        "print(\"Dimension: \",arr.ndim)\n",
        "print(\"Sata Type: \",arr.dtype)\n",
        "print(\"Size (no. of elements): \",arr.size)\n",
        "print(\"Item size(in bytes): \",arr.itemsize)"
      ],
      "metadata": {
        "colab": {
          "base_uri": "https://localhost:8080/"
        },
        "id": "QIOl3NP_8K6D",
        "outputId": "80569326-4eac-4f89-88d0-2a23d2fa6d54"
      },
      "execution_count": 28,
      "outputs": [
        {
          "output_type": "stream",
          "name": "stdout",
          "text": [
            "Array:  [[1 2 3]\n",
            " [4 5 6]]\n",
            "Shape:  (2, 3)\n",
            "Dimension:  2\n",
            "Sata Type:  int64\n",
            "Size (no. of elements):  6\n",
            "Item size(in bytes):  8\n"
          ]
        }
      ]
    },
    {
      "cell_type": "code",
      "source": [
        "##Numpy Vectorized Operations:\n",
        "\n",
        "arr1 = np.array([1, 2, 4, 5, 6])\n",
        "arr2 = np.array([10, 20, 30, 40, 50])\n",
        "\n",
        "#Element vise addition:\n",
        "print(\"Addition: \", arr1 + arr2)\n",
        "\n",
        "\n",
        "##Element wise Substraction\n",
        "print(\"Substraction: \", arr1-arr2)\n",
        "\n",
        "##Element wise Multiplication\n",
        "print(\"Multiplication: \", arr1*arr2)\n",
        "\n",
        "\n",
        "##Element wise Division\n",
        "print(\"Division: \", arr2/arr1)"
      ],
      "metadata": {
        "colab": {
          "base_uri": "https://localhost:8080/"
        },
        "id": "aLzqwOpElU8S",
        "outputId": "c90259eb-1521-4c9d-cd5a-081050114396"
      },
      "execution_count": 31,
      "outputs": [
        {
          "output_type": "stream",
          "name": "stdout",
          "text": [
            "Addition:  [11 22 34 45 56]\n",
            "Substraction:  [ -9 -18 -26 -35 -44]\n",
            "Multiplication:  [ 10  40 120 200 300]\n",
            "Division:  [10.         10.          7.5         8.          8.33333333]\n"
          ]
        }
      ]
    },
    {
      "cell_type": "code",
      "source": [
        "## Universal Functions\n",
        "arr = np.array([2, 3, 5, 6,7])\n",
        "\n",
        "##square root\n",
        "print(np.sqrt(arr))\n",
        "\n",
        "##Exponential\n",
        "print(np.exp(arr))\n",
        "\n",
        "##Sine\n",
        "print(np.sin(arr))\n",
        "\n",
        "## Natural log\n",
        "print(np.log(arr))"
      ],
      "metadata": {
        "colab": {
          "base_uri": "https://localhost:8080/"
        },
        "id": "cbg7ZV659GVT",
        "outputId": "966aa406-bf38-4323-82ff-5f2899c0fef6"
      },
      "execution_count": 32,
      "outputs": [
        {
          "output_type": "stream",
          "name": "stdout",
          "text": [
            "[1.41421356 1.73205081 2.23606798 2.44948974 2.64575131]\n",
            "[   7.3890561    20.08553692  148.4131591   403.42879349 1096.63315843]\n",
            "[ 0.90929743  0.14112001 -0.95892427 -0.2794155   0.6569866 ]\n",
            "[0.69314718 1.09861229 1.60943791 1.79175947 1.94591015]\n"
          ]
        }
      ]
    },
    {
      "cell_type": "code",
      "source": [
        "## Slicing and indexing\n",
        "\n",
        "arr = np.array([[1, 2, 3, 4, 5], [6, 7, 8, 9, 10], [1, 2, 3,4, 5]])\n",
        "print(arr)\n",
        "\n"
      ],
      "metadata": {
        "colab": {
          "base_uri": "https://localhost:8080/"
        },
        "id": "3c6YDNGm9lnr",
        "outputId": "5fd729d6-dcf0-41a6-9243-8732cbebe268"
      },
      "execution_count": 33,
      "outputs": [
        {
          "output_type": "stream",
          "name": "stdout",
          "text": [
            "[[ 1  2  3  4  5]\n",
            " [ 6  7  8  9 10]\n",
            " [ 1  2  3  4  5]]\n"
          ]
        }
      ]
    },
    {
      "cell_type": "code",
      "source": [
        "arr[0][0]"
      ],
      "metadata": {
        "colab": {
          "base_uri": "https://localhost:8080/"
        },
        "id": "wxtDmT1PAW0B",
        "outputId": "c5520edd-88b0-4c4d-b051-d3c42de0c3a8"
      },
      "execution_count": 34,
      "outputs": [
        {
          "output_type": "execute_result",
          "data": {
            "text/plain": [
              "np.int64(1)"
            ]
          },
          "metadata": {},
          "execution_count": 34
        }
      ]
    },
    {
      "cell_type": "code",
      "source": [
        "print(arr[1:, 2:])\n",
        "print(arr[:2, 2:])"
      ],
      "metadata": {
        "colab": {
          "base_uri": "https://localhost:8080/"
        },
        "id": "UImHzc9pL7EN",
        "outputId": "2e833d6e-bda1-4586-efcd-48f53dbae9c8"
      },
      "execution_count": 40,
      "outputs": [
        {
          "output_type": "stream",
          "name": "stdout",
          "text": [
            "[[ 8  9 10]\n",
            " [ 3  4  5]]\n",
            "[[ 3  4  5]\n",
            " [ 8  9 10]]\n"
          ]
        }
      ]
    },
    {
      "cell_type": "code",
      "source": [
        "## Modify array element\n",
        "arr[0,0] = 100\n",
        "print(arr)"
      ],
      "metadata": {
        "colab": {
          "base_uri": "https://localhost:8080/"
        },
        "id": "C_q_DaExMAu3",
        "outputId": "990f3cf9-ce85-4581-d19c-9d8cce2a273b"
      },
      "execution_count": 42,
      "outputs": [
        {
          "output_type": "stream",
          "name": "stdout",
          "text": [
            "[[100   2   3   4   5]\n",
            " [  6   7   8   9  10]\n",
            " [  1   2   3   4   5]]\n"
          ]
        }
      ]
    },
    {
      "cell_type": "code",
      "source": [
        "arr[1:] = 3\n",
        "print(arr)"
      ],
      "metadata": {
        "colab": {
          "base_uri": "https://localhost:8080/"
        },
        "id": "CIf93RaSM4XM",
        "outputId": "50b6ce3f-3dc7-4720-8842-9c6fd70c7c8d"
      },
      "execution_count": 44,
      "outputs": [
        {
          "output_type": "stream",
          "name": "stdout",
          "text": [
            "[[100   2   3   4   5]\n",
            " [  3   3   3   3   3]\n",
            " [  3   3   3   3   3]]\n"
          ]
        }
      ]
    },
    {
      "cell_type": "code",
      "source": [
        "### Statistical concepts -- Normalization\n",
        "## to have a mean of 0 and std of 1\n",
        "\n",
        "data = np.array([1, 2, 3, 4, 5])\n",
        "\n",
        "mean = np.mean(data)\n",
        "stdev = np.std(data)\n",
        "\n",
        "normalized_data = (data-mean)/stdev\n",
        "print(\"Normalized data: \",normalized_data)"
      ],
      "metadata": {
        "colab": {
          "base_uri": "https://localhost:8080/"
        },
        "id": "5NeS__OpM8P5",
        "outputId": "c3fe6858-ea3b-41ba-e28b-822dbeb10ef7"
      },
      "execution_count": 45,
      "outputs": [
        {
          "output_type": "stream",
          "name": "stdout",
          "text": [
            "Normalized data:  [-1.41421356 -0.70710678  0.          0.70710678  1.41421356]\n"
          ]
        }
      ]
    },
    {
      "cell_type": "code",
      "source": [
        "### Statistical concepts -- Mean, median, variance, std:\n",
        "\n",
        "print(\"Mean: \",np.mean(data))\n",
        "print(\"Median: \", np.median(data))\n",
        "print(\"Variance: \", np.var(data))\n",
        "print(\"Standard deviation: \", np.std(data))"
      ],
      "metadata": {
        "colab": {
          "base_uri": "https://localhost:8080/"
        },
        "id": "avIFm-FINWRa",
        "outputId": "4a748b26-a0f7-49b4-b7c7-aca29cac3abb"
      },
      "execution_count": 46,
      "outputs": [
        {
          "output_type": "stream",
          "name": "stdout",
          "text": [
            "Mean:  3.0\n",
            "Median:  3.0\n",
            "Variance:  2.0\n",
            "Standard deviation:  1.4142135623730951\n"
          ]
        }
      ]
    },
    {
      "cell_type": "code",
      "source": [
        "## Logical Operations\n",
        "data = np.array([1, 2, 3, 4, 5, 6, 7, 7, 8, 9, 10])\n",
        "data[data>5]\n"
      ],
      "metadata": {
        "colab": {
          "base_uri": "https://localhost:8080/"
        },
        "id": "sOMcScDTN1lr",
        "outputId": "610735c8-a779-4630-eee8-547ce916468b"
      },
      "execution_count": 50,
      "outputs": [
        {
          "output_type": "execute_result",
          "data": {
            "text/plain": [
              "array([ 6,  7,  7,  8,  9, 10])"
            ]
          },
          "metadata": {},
          "execution_count": 50
        }
      ]
    },
    {
      "cell_type": "code",
      "source": [
        "data[(data >=5) & (data<=9)]"
      ],
      "metadata": {
        "colab": {
          "base_uri": "https://localhost:8080/"
        },
        "id": "_4bn8Pm9N-yE",
        "outputId": "b21bac1b-61ca-4c56-b7b8-2deaf8dd4e9c"
      },
      "execution_count": 51,
      "outputs": [
        {
          "output_type": "execute_result",
          "data": {
            "text/plain": [
              "array([5, 6, 7, 7, 8, 9])"
            ]
          },
          "metadata": {},
          "execution_count": 51
        }
      ]
    },
    {
      "cell_type": "code",
      "source": [],
      "metadata": {
        "id": "9D9jw1F3OMHs"
      },
      "execution_count": null,
      "outputs": []
    }
  ]
}