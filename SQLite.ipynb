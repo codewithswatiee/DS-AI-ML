{
  "nbformat": 4,
  "nbformat_minor": 0,
  "metadata": {
    "colab": {
      "provenance": [],
      "authorship_tag": "ABX9TyMaoxh9bw832k123jCwW9Me",
      "include_colab_link": true
    },
    "kernelspec": {
      "name": "python3",
      "display_name": "Python 3"
    },
    "language_info": {
      "name": "python"
    }
  },
  "cells": [
    {
      "cell_type": "markdown",
      "metadata": {
        "id": "view-in-github",
        "colab_type": "text"
      },
      "source": [
        "<a href=\"https://colab.research.google.com/github/codewithswatiee/DS-AI-ML/blob/main/SQLite.ipynb\" target=\"_parent\"><img src=\"https://colab.research.google.com/assets/colab-badge.svg\" alt=\"Open In Colab\"/></a>"
      ]
    },
    {
      "cell_type": "code",
      "execution_count": 10,
      "metadata": {
        "id": "k2t2SasOfbz6"
      },
      "outputs": [],
      "source": [
        "import sqlite3"
      ]
    },
    {
      "cell_type": "code",
      "source": [
        "## Connect to an SQLite db\n",
        "connection = sqlite3.connect('test.db')\n",
        "connection"
      ],
      "metadata": {
        "colab": {
          "base_uri": "https://localhost:8080/"
        },
        "id": "5GKvYub_fdPQ",
        "outputId": "d38609a8-99a4-425a-f8ad-7eaf8de15563"
      },
      "execution_count": 11,
      "outputs": [
        {
          "output_type": "execute_result",
          "data": {
            "text/plain": [
              "<sqlite3.Connection at 0x7fc21310c5e0>"
            ]
          },
          "metadata": {},
          "execution_count": 11
        }
      ]
    },
    {
      "cell_type": "code",
      "source": [
        "cursor= connection.cursor()\n",
        "cursor"
      ],
      "metadata": {
        "colab": {
          "base_uri": "https://localhost:8080/"
        },
        "id": "L7XTlU_Kk6QX",
        "outputId": "c7b3752b-6b5d-431a-ee8b-2254c8a2c696"
      },
      "execution_count": 12,
      "outputs": [
        {
          "output_type": "execute_result",
          "data": {
            "text/plain": [
              "<sqlite3.Cursor at 0x7fc2131cc840>"
            ]
          },
          "metadata": {},
          "execution_count": 12
        }
      ]
    },
    {
      "cell_type": "code",
      "source": [
        "##Create a table\n",
        "cursor.execute('''\n",
        "    Create Table If Not Exists employees(\n",
        "      id Integer Primary Key,\n",
        "      name Text not null,\n",
        "      age Integer not null,\n",
        "      department Text,\n",
        "      salary Integer not null\n",
        "    )\n",
        "''')\n",
        "\n",
        "## Commit the changes\n",
        "connection.commit()"
      ],
      "metadata": {
        "id": "Zc_mJ_TklPH_"
      },
      "execution_count": 14,
      "outputs": []
    },
    {
      "cell_type": "code",
      "source": [
        "cursor.execute('''\n",
        "  Select * from employees\n",
        "''')"
      ],
      "metadata": {
        "colab": {
          "base_uri": "https://localhost:8080/"
        },
        "id": "KPJPsoCIlmkI",
        "outputId": "91c695b6-8bfb-464e-8a78-f27f4beb43ed"
      },
      "execution_count": 15,
      "outputs": [
        {
          "output_type": "execute_result",
          "data": {
            "text/plain": [
              "<sqlite3.Cursor at 0x7fc2131cc840>"
            ]
          },
          "metadata": {},
          "execution_count": 15
        }
      ]
    },
    {
      "cell_type": "code",
      "source": [
        "### Inserting data\n",
        "cursor.execute('''\n",
        "  Insert Into employees(name, age, department, salary)\n",
        "  values('John', 23, 'DS', 45000)\n",
        "''')\n",
        "\n",
        "cursor.execute('''\n",
        "  Insert Into employees(name, age, department, salary)\n",
        "  values('Dow', 43, 'CS', 145000)\n",
        "''')\n",
        "\n",
        "cursor.execute('''\n",
        "  Insert Into employees(name, age, department, salary)\n",
        "  values('Johnny', 35, 'EXTC', 35000)\n",
        "''')\n",
        "\n",
        "\n",
        "## Commit\n",
        "connection.commit()"
      ],
      "metadata": {
        "id": "mmbD_CRblvOC"
      },
      "execution_count": 16,
      "outputs": []
    },
    {
      "cell_type": "code",
      "source": [
        "## Querying the data\n",
        "cursor.execute('''\n",
        "  Select * from employees\n",
        "''')\n",
        "\n",
        "rows = cursor.fetchall()\n",
        "\n",
        "\n",
        "#printing the queried data\n",
        "for row in rows:\n",
        "  print(row)"
      ],
      "metadata": {
        "colab": {
          "base_uri": "https://localhost:8080/"
        },
        "id": "zJ7-V81LmWBx",
        "outputId": "7b4d2562-aa55-4885-bad2-673eb23131a7"
      },
      "execution_count": 18,
      "outputs": [
        {
          "output_type": "stream",
          "name": "stdout",
          "text": [
            "(1, 'John', 23, 'DS', 45000)\n",
            "(2, 'Dow', 43, 'CS', 145000)\n",
            "(3, 'Johnny', 35, 'EXTC', 35000)\n"
          ]
        }
      ]
    },
    {
      "cell_type": "code",
      "source": [
        "## Updating the data\n",
        "cursor.execute('''\n",
        "  UPDATE employees\n",
        "  Set age = 34\n",
        "  where name='John'\n",
        "''')\n",
        "\n",
        "connection.commit()"
      ],
      "metadata": {
        "id": "siZd0FyImZvn"
      },
      "execution_count": 19,
      "outputs": []
    },
    {
      "cell_type": "code",
      "source": [
        "## Querying the data\n",
        "cursor.execute('''\n",
        "  Select * from employees\n",
        "''')\n",
        "\n",
        "rows = cursor.fetchall()\n",
        "\n",
        "\n",
        "#printing the queried data\n",
        "for row in rows:\n",
        "  print(row)"
      ],
      "metadata": {
        "colab": {
          "base_uri": "https://localhost:8080/"
        },
        "id": "KW2D8wEJnXET",
        "outputId": "bf3f29f2-a445-4df9-91bd-1f4fbb0a5268"
      },
      "execution_count": 20,
      "outputs": [
        {
          "output_type": "stream",
          "name": "stdout",
          "text": [
            "(1, 'John', 34, 'DS', 45000)\n",
            "(2, 'Dow', 43, 'CS', 145000)\n",
            "(3, 'Johnny', 35, 'EXTC', 35000)\n"
          ]
        }
      ]
    },
    {
      "cell_type": "code",
      "source": [
        "## Delete the data from table\n",
        "cursor.execute('''\n",
        "  Delete from employees\n",
        "  where name='Johnny'\n",
        "''')\n",
        "\n",
        "connection.commit()"
      ],
      "metadata": {
        "id": "AZc66_P-nYjI"
      },
      "execution_count": 21,
      "outputs": []
    },
    {
      "cell_type": "code",
      "source": [
        "## Querying the data\n",
        "cursor.execute('''\n",
        "  Select * from employees\n",
        "''')\n",
        "\n",
        "rows = cursor.fetchall()\n",
        "\n",
        "\n",
        "#printing the queried data\n",
        "for row in rows:\n",
        "  print(row)"
      ],
      "metadata": {
        "colab": {
          "base_uri": "https://localhost:8080/"
        },
        "id": "kGADy-TInfWz",
        "outputId": "e169795d-be76-4f2c-fed5-c1c13f0b8303"
      },
      "execution_count": 22,
      "outputs": [
        {
          "output_type": "stream",
          "name": "stdout",
          "text": [
            "(1, 'John', 34, 'DS', 45000)\n",
            "(2, 'Dow', 43, 'CS', 145000)\n"
          ]
        }
      ]
    },
    {
      "cell_type": "code",
      "source": [
        "## Working with Sales Data\n",
        "\n",
        "connection = sqlite3.connect('sales.db')\n",
        "cursor = connection.cursor()\n",
        "\n",
        "cursor.execute('''\n",
        "  CREATE TABLE IF NOT EXISTS sales(\n",
        "    id INTEGER PRIMARY KEY,\n",
        "    product_name TEXT NOT NULL,\n",
        "    price REAL NOT NULL,\n",
        "    quantity INTEGER NOT NULL,\n",
        "    total_amount REAL NOT NULL\n",
        "  )\n",
        "''')\n",
        "\n",
        "\n",
        "sales_data = [\n",
        "    ('Product A', 10.99, 5, 54.95),\n",
        "    ('Product B', 19.99, 3, 59.97),\n",
        "    ('Product C', 5.49, 20, 109.80),\n",
        "    ('Product D', 7.99, 12, 95.88),\n",
        "    ('Product E', 9.22, 23, 34.67)\n",
        "]\n",
        "\n",
        "cursor.executemany('''\n",
        "  INSERT INTO sales(product_name, price, quantity, total_amount)\n",
        "  VALUES(?, ?, ?, ?)\n",
        "''', sales_data)\n",
        "\n",
        "connection.commit()\n"
      ],
      "metadata": {
        "id": "aLisup_pngrH"
      },
      "execution_count": 24,
      "outputs": []
    },
    {
      "cell_type": "code",
      "source": [
        "cursor.execute('''\n",
        "  SELECT * FROM sales\n",
        "''')\n",
        "\n",
        "rows = cursor.fetchall()\n",
        "\n",
        "for row in rows:\n",
        "  print(row)"
      ],
      "metadata": {
        "colab": {
          "base_uri": "https://localhost:8080/"
        },
        "id": "bjtNyJvooUNi",
        "outputId": "0e8d51fc-8711-4b2d-8182-5c3a0f6980ee"
      },
      "execution_count": 25,
      "outputs": [
        {
          "output_type": "stream",
          "name": "stdout",
          "text": [
            "(1, 'Product A', 10.99, 5, 54.95)\n",
            "(2, 'Product B', 19.99, 3, 59.97)\n",
            "(3, 'Product C', 5.49, 20, 109.8)\n",
            "(4, 'Product D', 7.99, 12, 95.88)\n",
            "(5, 'Product E', 9.22, 23, 34.67)\n"
          ]
        }
      ]
    },
    {
      "cell_type": "code",
      "source": [
        "connection.close()"
      ],
      "metadata": {
        "id": "ahMUMXyqofXN"
      },
      "execution_count": 26,
      "outputs": []
    },
    {
      "cell_type": "code",
      "source": [],
      "metadata": {
        "id": "VeKOW-anohWE"
      },
      "execution_count": null,
      "outputs": []
    }
  ]
}